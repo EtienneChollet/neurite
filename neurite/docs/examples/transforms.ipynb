{
 "cells": [
  {
   "cell_type": "code",
   "execution_count": 1,
   "metadata": {},
   "outputs": [],
   "source": [
    "# Standard imports\n",
    "import os\n",
    "import sys\n",
    "\n",
    "# Setting up enviornment for neurite\n",
    "sys.path.append('../../../')\n",
    "os.environ['NEURITE_BACKEND'] = 'pytorch'\n",
    "\n",
    "# OPTIONAL: Importing matplotlib for visualization purposes\n",
    "import matplotlib.pyplot as plt\n",
    "\n",
    "# Importing samplers from neurite\n",
    "from neurite.torch.layers import Resample\n",
    "from neurite.torch.random import RandInt"
   ]
  },
  {
   "cell_type": "markdown",
   "metadata": {},
   "source": [
    "# Initialize an image"
   ]
  },
  {
   "cell_type": "code",
   "execution_count": 61,
   "metadata": {},
   "outputs": [
    {
     "data": {
      "text/plain": [
       "<matplotlib.image.AxesImage at 0x168a1fce0>"
      ]
     },
     "execution_count": 61,
     "metadata": {},
     "output_type": "execute_result"
    },
    {
     "data": {
      "image/png": "[encoded data removed]",
      "text/plain": [
       "<Figure size 640x480 with 1 Axes>"
      ]
     },
     "metadata": {},
     "output_type": "display_data"
    }
   ],
   "source": [
    "import torch\n",
    "\n",
    "# Define dimensions\n",
    "spatial_dims = 64\n",
    "square_dims = 8\n",
    "\n",
    "input_tensor = torch.zeros((1, 1, spatial_dims, spatial_dims))\n",
    "\n",
    "# Fill in 3x3 white squares\n",
    "for i in range(0, spatial_dims, square_dims):\n",
    "    for j in range(0, spatial_dims, square_dims):\n",
    "        # Determine whether to make this square white or black\n",
    "        if (i // square_dims + j // square_dims) % 2 == 0:\n",
    "            input_tensor[0, 0, i:i + square_dims, j:j + square_dims] = 1\n",
    "\n",
    "plt.imshow(input_tensor[0, 0].numpy())"
   ]
  },
  {
   "cell_type": "markdown",
   "metadata": {},
   "source": [
    "# 1 Resampling a tensor"
   ]
  },
  {
   "cell_type": "markdown",
   "metadata": {},
   "source": [
    "## 1.1 Perform the resampling operation"
   ]
  },
  {
   "cell_type": "code",
   "execution_count": null,
   "metadata": {},
   "outputs": [
    {
     "data": {
      "text/plain": [
       "<matplotlib.image.AxesImage at 0x166770ce0>"
      ]
     },
     "execution_count": 60,
     "metadata": {},
     "output_type": "execute_result"
    },
    {
     "data": {
      "image/png": "[encoded data removed]",
      "text/plain": [
       "<Figure size 640x480 with 1 Axes>"
      ]
     },
     "metadata": {},
     "output_type": "display_data"
    }
   ],
   "source": [
    "# Initialize the transformation\n",
    "transform = Resample(\n",
    "    # subsample -> upsample (x4)\n",
    "    operations='susususu',\n",
    "    stride=RandInt(3, 6)\n",
    ")\n",
    "\n",
    "# Transform the image\n",
    "transformed_tensor = transform(input_tensor)\n",
    "\n",
    "# Let's see what it looks like\n",
    "plt.imshow(transformed_tensor[0, 0])"
   ]
  },
  {
   "cell_type": "markdown",
   "metadata": {},
   "source": [
    "## 1.2 Inspecting the state dict"
   ]
  },
  {
   "cell_type": "code",
   "execution_count": 38,
   "metadata": {},
   "outputs": [
    {
     "data": {
      "text/plain": [
       "{'qualname': 'Resample',\n",
       " 'parent': 'BaseTransform',\n",
       " 'module': 'neurite.torch.layers',\n",
       " 'arguments': {'operations': 'su',\n",
       "  'stride': {'qualname': 'RandInt',\n",
       "   'parent': 'Sampler',\n",
       "   'module': 'neurite.torch.random',\n",
       "   'theta': {'low': 3, 'high': 6}},\n",
       "  'forbidden_dims': (1, 0),\n",
       "  'p': 0.5,\n",
       "  'max_concurrent_subsamplings': None,\n",
       "  'mode': 'nearest'}}"
      ]
     },
     "execution_count": 38,
     "metadata": {},
     "output_type": "execute_result"
    }
   ],
   "source": [
    "state_dict = transform.serialize()\n",
    "state_dict"
   ]
  },
  {
   "cell_type": "markdown",
   "metadata": {},
   "source": [
    "## 1.3 Accessing certain input parameters"
   ]
  },
  {
   "cell_type": "code",
   "execution_count": 43,
   "metadata": {},
   "outputs": [
    {
     "data": {
      "text/plain": [
       "{'qualname': 'RandInt',\n",
       " 'parent': 'Sampler',\n",
       " 'module': 'neurite.torch.random',\n",
       " 'theta': {'low': 3, 'high': 6}}"
      ]
     },
     "execution_count": 43,
     "metadata": {},
     "output_type": "execute_result"
    }
   ],
   "source": [
    "# Let's see what we used for stride!\n",
    "state_dict['arguments']['stride']"
   ]
  }
 ],
 "metadata": {
  "kernelspec": {
   "display_name": "pytorch",
   "language": "python",
   "name": "python3"
  },
  "language_info": {
   "codemirror_mode": {
    "name": "ipython",
    "version": 3
   },
   "file_extension": ".py",
   "mimetype": "text/x-python",
   "name": "python",
   "nbconvert_exporter": "python",
   "pygments_lexer": "ipython3",
   "version": "3.12.7"
  }
 },
 "nbformat": 4,
 "nbformat_minor": 2
}
